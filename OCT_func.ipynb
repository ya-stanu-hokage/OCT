{
 "cells": [
  {
   "cell_type": "code",
   "execution_count": 1,
   "id": "54a08da1",
   "metadata": {},
   "outputs": [],
   "source": [
    "from scipy.fft import fft, ifft, fftfreq, fftshift\n",
    "import numpy as np\n",
    "import matplotlib.pyplot as plt"
   ]
  },
  {
   "cell_type": "code",
   "execution_count": 20,
   "id": "8a6bb387",
   "metadata": {},
   "outputs": [],
   "source": [
    "#чтение спектра из файла\n",
    "\n",
    "#out_wl -индикатор выводы массива длин волн\n",
    "\n",
    "def read_spectr(file_name, out_wl = 1):\n",
    "    lamda, spectrum = [], []\n",
    "    with open(file_name, 'r') as f:\n",
    "        for line in f.readlines()[2:]:\n",
    "            col1, col2 = line.split()\n",
    "            lamda.append(float(col1)/1000), spectrum.append(10**((float(col2)+120)/10))\n",
    "    f.close()\n",
    "    if out_wl == 1:\n",
    "        return np.array(lamda), np.array(spectrum)\n",
    "    else:\n",
    "        return np.array(spectrum)"
   ]
  },
  {
   "cell_type": "code",
   "execution_count": 11,
   "id": "e0bb79d4",
   "metadata": {},
   "outputs": [],
   "source": [
    "#сглаживающая функция\n",
    "\n",
    "#box_pts - количесвто элементов в сглаживании \n",
    "\n",
    "def smooth(y, box_pts):\n",
    "    box = np.ones(box_pts)/box_pts\n",
    "    y_smooth = np.convolve(y, box, mode='same')\n",
    "    return y_smooth"
   ]
  },
  {
   "cell_type": "code",
   "execution_count": 12,
   "id": "4a01d708",
   "metadata": {},
   "outputs": [],
   "source": [
    "#интерполлирующие функции для увеличения разрешения OSA\n",
    "\n",
    "def f_line(a, b, res):\n",
    "    return [np.round(a + (b-a)*i/res, 5) for i in range(res)] #res - количество точек между исходными, включая границы\n",
    "\n",
    "#dl - количесвто новых точек на отрезке между двумя первоначальными \n",
    "def interpolate(l_in, dl):\n",
    "    l_out = []\n",
    "    for i in range(len(l_in)-1):\n",
    "        l_out.extend(f_line(l_in[i], l_in[i+1], dl))\n",
    "    l_out.append(l_in[-1])\n",
    "    return np.array(l_out)"
   ]
  },
  {
   "cell_type": "code",
   "execution_count": 49,
   "id": "d3b4a08e",
   "metadata": {},
   "outputs": [],
   "source": [
    "#Фурье преобразование\n",
    "\n",
    "#spectr_initial, spectr_new - начальный спектр и с интреференцией\n",
    "#wo_noise1, wo_noise2 - диапазон элементов массива длин волн wavelength_mas где нет сильных шумов\n",
    "#out - интдикатор вывода массивов фурье элементов\n",
    "\n",
    "def foutier(wavelength_mas, spectr_initial, spectr_new, wo_noise1, wo_noise2, out = 0):\n",
    "    \n",
    "    N = len(wavelength_mas)-1 \n",
    "    k = np.linspace(1/wavelength_mas[-1], 1/wavelength_mas[0], N, endpoint=False)\n",
    "\n",
    "    ##############Выборка шумов#################\n",
    "    noise_a, noise_b  = wo_noise1, wo_noise2\n",
    "\n",
    "    Nd = noise_b - noise_a - 1\n",
    "    xd = k[noise_a:noise_b]\n",
    "    Td = (k[noise_b] - k[noise_a]) / Nd \n",
    "    xdf = fftfreq(Nd, Td)[:Nd//2]\n",
    "\n",
    "    #функция интерференции\n",
    "    y = (spectr_new/spectr_initial)[noise_a:noise_b]\n",
    "\n",
    "    #Fourier function\n",
    "    yf = ifft(y)\n",
    "    yf_abs = 2.0/Nd * np.abs(yf[0:Nd//2])\n",
    "\n",
    "    ###############################################\n",
    "\n",
    "    \n",
    "    plt.plot(xdf, yf_abs, '-r')\n",
    "    plt.title('Fourier Domain')\n",
    "    plt.xlabel('$\\Delta$z, um')\n",
    "    plt.ylabel('Amplitude, a.u')\n",
    "    plt.grid()\n",
    "    plt.show()\n",
    "    if out == 1:\n",
    "        return xdf, yf_abs"
   ]
  },
  {
   "cell_type": "markdown",
   "id": "cbe118ea",
   "metadata": {},
   "source": [
    "# ПРИМЕР"
   ]
  },
  {
   "cell_type": "code",
   "execution_count": 53,
   "id": "ca86bacb",
   "metadata": {},
   "outputs": [],
   "source": [
    "wl_init, sp_init = read_spectr('740mA_empty_2023_02_21_15_51_38.dat')\n",
    "sp_init_sm = smooth(sp_init, 5) #cглаженный\n",
    "sp_init_sm_itp = interpolate(sp_init_sm, 5) #сглаженный+больше разрешение\n",
    "\n",
    "wl = interpolate(wl_init, 5) #массив с длинами волн\n",
    "\n",
    "sp_new = read_spectr('740mA_glass_2023_02_21_15_50_53.dat', out_wl = 0)   \n",
    "spec_new_itp = interpolate(sp_new, 5) #больше разрешение\n",
    "\n",
    "noise_a, noise_b = 500, 4000 #бубны с шумами\n",
    "\n",
    "plt.plot(wl[noise_a:noise_b], (spec_new_itp/sp_init_sm_itp)[noise_a:noise_b], 'm')\n",
    "plt.grid()\n",
    "plt.show()\n",
    "\n",
    "x , y = foutier(wl, sp_init_sm_itp, spec_new_itp, noise_a, noise_b, out = 1)\n",
    "%matplotlib qt\n",
    "#%matplotlib inline # - если не хочется в отдельном окне график\n",
    "plt.plot(x, y)\n",
    "plt.grid()\n",
    "plt.show()"
   ]
  },
  {
   "cell_type": "code",
   "execution_count": null,
   "id": "0e1fb238",
   "metadata": {},
   "outputs": [],
   "source": []
  },
  {
   "cell_type": "code",
   "execution_count": null,
   "id": "162de820",
   "metadata": {},
   "outputs": [],
   "source": []
  }
 ],
 "metadata": {
  "kernelspec": {
   "display_name": "Python 3 (ipykernel)",
   "language": "python",
   "name": "python3"
  },
  "language_info": {
   "codemirror_mode": {
    "name": "ipython",
    "version": 3
   },
   "file_extension": ".py",
   "mimetype": "text/x-python",
   "name": "python",
   "nbconvert_exporter": "python",
   "pygments_lexer": "ipython3",
   "version": "3.9.12"
  }
 },
 "nbformat": 4,
 "nbformat_minor": 5
}
